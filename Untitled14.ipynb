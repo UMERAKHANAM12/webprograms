{
  "nbformat": 4,
  "nbformat_minor": 0,
  "metadata": {
    "colab": {
      "provenance": [],
      "authorship_tag": "ABX9TyMIvzolzf7FIZRnMJFksVc5",
      "include_colab_link": true
    },
    "kernelspec": {
      "name": "python3",
      "display_name": "Python 3"
    },
    "language_info": {
      "name": "python"
    }
  },
  "cells": [
    {
      "cell_type": "markdown",
      "metadata": {
        "id": "view-in-github",
        "colab_type": "text"
      },
      "source": [
        "<a href=\"https://colab.research.google.com/github/UMERAKHANAM12/webprograms/blob/master/Untitled14.ipynb\" target=\"_parent\"><img src=\"https://colab.research.google.com/assets/colab-badge.svg\" alt=\"Open In Colab\"/></a>"
      ]
    },
    {
      "cell_type": "code",
      "execution_count": null,
      "metadata": {
        "id": "Nb8d50btYLMk"
      },
      "outputs": [],
      "source": []
    },
    {
      "cell_type": "code",
      "execution_count": 1,
      "metadata": {
        "colab": {
          "base_uri": "https://localhost:8080/"
        },
        "id": "cnakxBINMPiq",
        "outputId": "fa88024a-a730-4716-89dc-de27283b7654"
      },
      "outputs": [
        {
          "output_type": "stream",
          "name": "stdout",
          "text": [
            "======fibonnacci series========\n",
            "Fibonacci (1) : 1\n",
            "Fibonacci (2) : 1\n",
            "Fibonacci (3) : 2\n",
            "Fibonacci (4) : 3\n",
            "Fibonacci (5) : 5\n",
            "Fibonacci (6) : 8\n",
            "Fibonacci (7) : 13\n",
            "Fibonacci (8) : 21\n",
            "Fibonacci (9) : 34\n",
            "Fibonacci (10) : 55\n"
          ]
        }
      ],
      "source": [
        "fib_cache = {}\n",
        "def fib_memo(input_val):\n",
        "    if input_val in fib_cache:\n",
        "        return fib_cache[input_val]\n",
        "    if input_val==0:\n",
        "       val=0\n",
        "    elif input_val<2:\n",
        "         val=1\n",
        "    else:\n",
        "       val=fib_memo(input_val-1)+fib_memo(input_val-2)\n",
        "    fib_cache[input_val]=val\n",
        "    return val\n",
        "if __name__ == '__main__':\n",
        "   print('======fibonnacci series========')\n",
        "   for i in range(1,11):\n",
        "     print(f'Fibonacci ({i}) : {fib_memo(i)}')\n",
        "\n"
      ]
    }
  ]
}